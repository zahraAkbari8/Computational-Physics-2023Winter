{
 "cells": [
  {
   "cell_type": "code",
   "execution_count": 1,
   "metadata": {},
   "outputs": [],
   "source": [
    "using LinearAlgebra\n",
    "using Plots\n",
    "using Random\n",
    "using Statistics\n",
    "using Distributions\n",
    "using StatsPlots\n",
    "using LaTeXStrings\n",
    "using StatsBase"
   ]
  },
  {
   "attachments": {},
   "cell_type": "markdown",
   "metadata": {},
   "source": [
    "Grenerating Data"
   ]
  },
  {
   "cell_type": "code",
   "execution_count": 2,
   "metadata": {},
   "outputs": [],
   "source": [
    "N=100000\n",
    "σ = 0.1\n",
    "function ρInverse(x)            # Generating the cumilative inverse function mentioned in text book for both parameters\n",
    "    ρ = sqrt(-2*(σ^2)*log(x)) \n",
    "    return(ρ)\n",
    "end\n",
    "function θInverse(y)\n",
    "    θ = 2*π*y\n",
    "    return(θ)\n",
    "end\n",
    "function RandGenerator(n)        # Generating n ranfom numbers with uniform distribution\n",
    "    UniformRandlist = rand(n)\n",
    "    return(UniformRandlist)\n",
    "end\n",
    "NormalRandListR  = ρInverse.(RandGenerator(N))\n",
    "NormalRandListθ = θInverse.(RandGenerator(N))\n",
    "X = NormalRandListR .* cos.(NormalRandListθ) #Findin X and Y from polar coordinates for plotting\n",
    "Y = NormalRandListR .* sin.(NormalRandListθ) \n",
    ";"
   ]
  },
  {
   "attachments": {},
   "cell_type": "markdown",
   "metadata": {},
   "source": [
    "Plotting X"
   ]
  },
  {
   "cell_type": "code",
   "execution_count": 3,
   "metadata": {},
   "outputs": [
    {
     "data": {
      "text/plain": [
       "\"c:\\\\8\\\\Simulation\\\\Series6\\\\images\\\\6.4.png\""
      ]
     },
     "execution_count": 3,
     "metadata": {},
     "output_type": "execute_result"
    }
   ],
   "source": [
    "Xplot = stephist(X , normalize=:pdf, label = L\"count\", c = :plum , fill = true)\n",
    "fitX = plot!(Normal(0,σ), label = L\"fitted\\ normal\\ distribution\", c = :darkorchid3)\n",
    "plot!(xlabel = L\"x\", ylabel = L\"density\",title = L\"Normal\\ distribution\")\n",
    "savefig(\"images\\\\6.4.png\")"
   ]
  },
  {
   "attachments": {},
   "cell_type": "markdown",
   "metadata": {},
   "source": [
    "Plotting Y"
   ]
  },
  {
   "cell_type": "code",
   "execution_count": 4,
   "metadata": {},
   "outputs": [
    {
     "data": {
      "text/plain": [
       "\"c:\\\\8\\\\Simulation\\\\Series6\\\\images\\\\6.4prime.png\""
      ]
     },
     "execution_count": 4,
     "metadata": {},
     "output_type": "execute_result"
    }
   ],
   "source": [
    "Yplot = stephist(Y , normalize=:pdf, label = L\"count\", c = :plum , fill = true, bins = 500)\n",
    "fitY = plot!(Normal(0,σ), label = L\"fitted\\ normal\\ distribution\", c = :darkorchid3)\n",
    "plot!(xlabel = L\"y\", ylabel = L\"density\",title = L\"Normal\\ distribution\")\n",
    "savefig(\"images\\\\6.4prime.png\")"
   ]
  },
  {
   "cell_type": "code",
   "execution_count": 5,
   "metadata": {},
   "outputs": [
    {
     "data": {
      "text/plain": [
       "\"c:\\\\8\\\\Simulation\\\\Series6\\\\images\\\\6.4p.png\""
      ]
     },
     "execution_count": 5,
     "metadata": {},
     "output_type": "execute_result"
    }
   ],
   "source": [
    "histogram2d(X, Y)   # Visualising with differnet methods\n",
    "savefig(\"images\\\\6.4p.png\")"
   ]
  },
  {
   "cell_type": "code",
   "execution_count": 6,
   "metadata": {},
   "outputs": [
    {
     "data": {
      "text/plain": [
       "\"c:\\\\8\\\\Simulation\\\\Series6\\\\images\\\\6.4pr.png\""
      ]
     },
     "execution_count": 6,
     "metadata": {},
     "output_type": "execute_result"
    }
   ],
   "source": [
    "hist2d = fit(Histogram, (X, Y), nbins=50)\n",
    "# plot(hist2d)\n",
    "wireframe(midpoints(hist2d.edges[2]), midpoints(hist2d.edges[1]), hist2d.weights)\n",
    "savefig(\"images\\\\6.4pr.png\")\n"
   ]
  },
  {
   "cell_type": "code",
   "execution_count": 7,
   "metadata": {},
   "outputs": [
    {
     "data": {
      "text/plain": [
       "\"c:\\\\8\\\\Simulation\\\\Series6\\\\images\\\\6.4pri.png\""
      ]
     },
     "execution_count": 7,
     "metadata": {},
     "output_type": "execute_result"
    }
   ],
   "source": [
    "hist2d = fit(Histogram, (X, Y), nbins=50)\n",
    "# plot(hist2d)\n",
    "surface(midpoints(hist2d.edges[2]), midpoints(hist2d.edges[1]), hist2d.weights)\n",
    "savefig(\"images\\\\6.4pri.png\")\n",
    "\n"
   ]
  }
 ],
 "metadata": {
  "kernelspec": {
   "display_name": "Julia 1.8.5",
   "language": "julia",
   "name": "julia-1.8"
  },
  "language_info": {
   "file_extension": ".jl",
   "mimetype": "application/julia",
   "name": "julia",
   "version": "1.8.5"
  },
  "orig_nbformat": 4
 },
 "nbformat": 4,
 "nbformat_minor": 2
}
