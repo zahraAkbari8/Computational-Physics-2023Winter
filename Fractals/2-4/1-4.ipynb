{
 "cells": [
  {
   "cell_type": "code",
   "execution_count": 66,
   "metadata": {},
   "outputs": [],
   "source": [
    "import matplotlib\n",
    "import matplotlib.pyplot as plt\n",
    "import numpy as np\n",
    "\n"
   ]
  },
  {
   "cell_type": "code",
   "execution_count": 73,
   "metadata": {},
   "outputs": [
    {
     "data": {
      "image/png": "[encoded data removed]",
      "text/plain": [
       "<Figure size 432x288 with 1 Axes>"
      ]
     },
     "metadata": {
      "needs_background": "light"
     },
     "output_type": "display_data"
    }
   ],
   "source": [
    "N=32\n",
    "#setting the dimentions of the whole triangle whidth and height as 1\n",
    "L=1\n",
    "plt.axes()\n",
    "\n",
    "# i and j are inexing the rows and columns of Khayyam-Pascal triangle\n",
    "# x and y are defined based on indexes i and j considering the geometrical properties of Khayyam-Pascal triangle\n",
    "# a purple revtangle is painted if the value of Khayyam-Pascal triangle is even. the rectangle is pink if the value is odd\n",
    "# the value of each cell can be calculated by combination formula.\n",
    "#since float can only store finite decimals, caculating combination  using normal division can cause problems in large numbers\n",
    "#for solving this we use int division : //\n",
    "for i in range(N):\n",
    "    for j in range(i+1):\n",
    "        y = -i * L/N\n",
    "        x = j *(  L / N) - ((i/2) * (L/(N)))\n",
    "        combination = np.math.factorial(i) // (np.math.factorial(j) * np.math.factorial(i-j))\n",
    "        if(combination) %2 == 0:\n",
    "            rectangle = (plt.Rectangle((x,y), L/N, L/N, fc='purple',ec=\"purple\"))\n",
    "            plt.gca().add_patch(rectangle)\n",
    "        else:\n",
    "             rectangle = (plt.Rectangle((x,y), L/N, L/N, fc='pink',ec=\"pink\"))\n",
    "             plt.gca().add_patch(rectangle)   \n",
    "\n",
    "plt.axis('scaled')\n",
    "plt.xlim(-1, 1)\n",
    "plt.ylim(-1, 0.7)\n",
    "plt.show()\n",
    "\n",
    "            "
   ]
  }
 ],
 "metadata": {
  "kernelspec": {
   "display_name": "Python 3",
   "language": "python",
   "name": "python3"
  },
  "language_info": {
   "codemirror_mode": {
    "name": "ipython",
    "version": 3
   },
   "file_extension": ".py",
   "mimetype": "text/x-python",
   "name": "python",
   "nbconvert_exporter": "python",
   "pygments_lexer": "ipython3",
   "version": "3.9.6"
  },
  "orig_nbformat": 4,
  "vscode": {
   "interpreter": {
    "hash": "c55b695489d32fdcc130527e840a65138b9ca8121918d501f8bb96ec3331b7e3"
   }
  }
 },
 "nbformat": 4,
 "nbformat_minor": 2
}
