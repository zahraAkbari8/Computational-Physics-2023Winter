{
 "cells": [
  {
   "cell_type": "code",
   "execution_count": 7,
   "metadata": {},
   "outputs": [],
   "source": [
    "using Random, LaTeXStrings , ColorSchemes , Statistics, Plots, Distributions, LinearAlgebra, CSV, DataFrames"
   ]
  },
  {
   "attachments": {},
   "cell_type": "markdown",
   "metadata": {},
   "source": [
    "Initializing"
   ]
  },
  {
   "cell_type": "code",
   "execution_count": 5,
   "metadata": {},
   "outputs": [
    {
     "data": {
      "text/plain": [
       "Init (generic function with 1 method)"
      ]
     },
     "execution_count": 5,
     "metadata": {},
     "output_type": "execute_result"
    }
   ],
   "source": [
    "mutable struct MDBox\n",
    "    n ::Int\n",
    "    L :: Float64\n",
    "    T :: Float64\n",
    "    xlist :: Vector{Float64}\n",
    "    ylist :: Vector{Float64}\n",
    "    axlist :: Vector{Float64}\n",
    "    aylist :: Vector{Float64}\n",
    "    V :: Float64\n",
    "    K :: Float64\n",
    "    E :: Float64\n",
    "    P :: Float64\n",
    "    TRange :: Int\n",
    "    step :: Float64\n",
    "    dmax :: Float64\n",
    "end\n",
    "\n",
    "function Init(n, L ,T)\n",
    "    xlist =  zeros(n)\n",
    "    ylist = zeros(n)                                # Initializing rs\n",
    "    for i in 1:(2*Int(√(n)))                          # Align Left     \n",
    "        for j in 1:(Int(√(n)÷2))\n",
    "        xlist[(j)+(i-1)*Int(√(n)/2)] = j*L/(2*(sqrt(n)/2+1))\n",
    "        ylist[(j)+(i-1)*Int(√(n)/2)] = i*L/(2*sqrt(n)+1)\n",
    "        end\n",
    "    end\n",
    "    axlist = zeros(n)\n",
    "    aylist = zeros(n)\n",
    "    V = 0.0 \n",
    "    K = 0.0\n",
    "    E = 0.0\n",
    "    P=0.0\n",
    "    TRange = 100000\n",
    "    step = 0.01\n",
    "    dmax = 1\n",
    "   return MDBox(n ,L , T  , xlist , ylist , axlist, aylist,V , K , E  , P,TRange, step, dmax )\n",
    "end\n"
   ]
  },
  {
   "attachments": {},
   "cell_type": "markdown",
   "metadata": {},
   "source": [
    "Potential Calculator"
   ]
  },
  {
   "cell_type": "code",
   "execution_count": 3,
   "metadata": {},
   "outputs": [
    {
     "data": {
      "text/plain": [
       "Potential (generic function with 1 method)"
      ]
     },
     "execution_count": 3,
     "metadata": {},
     "output_type": "execute_result"
    }
   ],
   "source": [
    "\n",
    "function Potential(box)                 #This function is completely similar to my Forces() duntion in MD code, but it only calculates potentials. periodic condition is also applied.\n",
    "\n",
    "    ϵ = 0\n",
    "    box.V = 0.0\n",
    "\n",
    "    for i in 1:box.n \n",
    "        xrepeati = abs(box.L-abs(box.xlist[i]))\n",
    "        yrepeati = abs(box.L-abs(box.ylist[i]))\n",
    "        if ((box.xlist[i]<0) || (box.xlist[i]>box.L))           #Periodic boundary condition \n",
    "            box.xlist[i] = xrepeati\n",
    "        end\n",
    "        if ((box.ylist[i]<0) || (box.ylist[i]>box.L))\n",
    "            box.ylist[i] = yrepeati\n",
    "        end\n",
    "        for j in 1:i\n",
    "            rreal = 0.0\n",
    "            if (i==j)\n",
    "                continue    \n",
    "            end\n",
    "            if box.xlist[i]<(box.L/4) && box.ylist[i] < (box.L/4)               # Boundary conditions for finding the nrighbours in 2.5σ. We only check the two nearest side of the box for each particle based of it's position in the box.\n",
    "                xrepeatj = box.xlist[j] -  box.L\n",
    "                yrepeatj = box.ylist[j] -  box.L\n",
    "            elseif box.xlist[i]<(box.L/4) && box.ylist[i] > (box.L/4)\n",
    "                xrepeatj = box.xlist[j] -  box.L\n",
    "                yrepeatj = box.ylist[j] +  box.L\n",
    "            elseif box.xlist[i]>(box.L/4) && box.ylist[i] < (box.L/4)\n",
    "                xrepeatj = box.xlist[j] +  box.L\n",
    "                yrepeatj = box.ylist[j] -  box.L\n",
    "            else\n",
    "                xrepeatj = box.xlist[j] +  box.L\n",
    "                yrepeatj = box.ylist[j] +  box.L\n",
    "            end  \n",
    "\n",
    "            deltax = box.xlist[j]-box.xlist[i]                  # Calculating different distances for each two neighbours (including the mirrors)\n",
    "            deltay = box.ylist[j]-box.ylist[i]\n",
    "            deltaxrepeat = xrepeatj - box.xlist[i] \n",
    "            deltayrepeat = yrepeatj - box.ylist[i] \n",
    "            r = sqrt((deltax)^2 +(deltay)^2)\n",
    "            rhorizontal = sqrt((deltaxrepeat)^2 +(deltay)^2)\n",
    "            rvertical = sqrt((deltax)^2 +(deltayrepeat)^2)\n",
    "            rdiagonal = sqrt((deltaxrepeat)^2 +(deltayrepeat)^2)\n",
    "\n",
    "            if r<2.5                                            # If the j particle is not a neighbour for the i particle, the mirror might be. so the distance is set to be the relating one.\n",
    "                                                                # A relatively small ϵ was first used for not letting the force to diverge. at last it was set to zero.\n",
    "                rreal = r+ϵ\n",
    "            elseif rhorizontal<2.5\n",
    "                rreal = rhorizontal+ϵ\n",
    "                deltax = deltaxrepeat\n",
    "            elseif rvertical<2.5\n",
    "                rreal = rvertical+ϵ\n",
    "                deltay = deltayrepeat\n",
    "            elseif rdiagonal<2.5\n",
    "                rreal = rdiagonal+ϵ\n",
    "                deltax = deltaxrepeat\n",
    "                deltay = deltayrepeat\n",
    "            else\n",
    "    \n",
    "                    continue\n",
    "            end\n",
    "            r2 = rreal*rreal\n",
    "            r6 = r2*r2*r2\n",
    "            r12 = r6*r6\n",
    "            v = 4*((1/r12)-(1/r6))                    # Calculating Lennard Jones potential\n",
    "            box.V += v\n",
    "            \n",
    "            F = -(4/(r2))*((12/(r12))-(6/(r6)))\n",
    "            ax = F *deltax                                   # The force decomposed to x and y direction\n",
    "            ay = F *deltay\n",
    "            box.axlist[i] += ax\n",
    "            box.axlist[j] += -ax\n",
    "            box.aylist[i] += ay\n",
    "            box.aylist[j] += -ay\n",
    "\n",
    "        end\n",
    "    end\n",
    "\n",
    "end\n"
   ]
  },
  {
   "attachments": {},
   "cell_type": "markdown",
   "metadata": {},
   "source": [
    "Mont Carlo step"
   ]
  },
  {
   "cell_type": "code",
   "execution_count": 4,
   "metadata": {},
   "outputs": [
    {
     "data": {
      "text/plain": [
       "montcarlo (generic function with 1 method)"
      ]
     },
     "execution_count": 4,
     "metadata": {},
     "output_type": "execute_result"
    }
   ],
   "source": [
    "function montcarlo(box)                                                         # defining a function to perform a Monte Carlo step\n",
    "    count = 0                                                                   # initialize a counter for the number of accepted moves\n",
    "    randindex = rand(1:box.n)                                                   # choosing a random particle to move\n",
    "    Rrand = box.dmax * rand()                                                           # We want the random displacement vector to be symmetrical in polar coordinates, so it should be calculated using r and theta random coefficents.\n",
    "    θrand = 2*pi*rand()\n",
    "    newX = box.xlist[randindex] +   Rrand*sin(θrand)                            # proposing a new x coordinate by displacing it using rrand and thetarand\n",
    "    newY = box.ylist[randindex] +   Rrand*sin(θrand)                            # proposing a new y coordinate by displacing it using rrand and thetarand\n",
    "    tempbox.xlist[randindex] = newX                                             # updating the x coordinate of the particle in the temporary box\n",
    "    tempbox.ylist[randindex] = newY                                             # updating the y coordinate of the particle in the temporary box\n",
    "    oldX =  box.xlist[randindex]                                                # saving the old x coordinate of the particle\n",
    "    oldY =  box.ylist[randindex]                                                # saving the old y coordinate of the particle\n",
    "    newPotential = Potential(tempbox)                                           # calculating the new potential energy of the system in the temporary box\n",
    "    ΔV = tempbox.V - box.V                                                      # calculating the energy difference due to the move\n",
    "    probability = exp(-ΔV/(box.T))                                              # calculating the acceptance probability \n",
    "        if probability >1 || rand()< probability                                # accepting the move if it lowers the energy or with a probability of exp(-ΔV/T) if it raises the energy\n",
    "            box.xlist = tempbox.xlist                                           # updating the x coordinates of the particles in the original box\n",
    "            box.ylist = tempbox.ylist                                           # updating the y coordinates of the particles in the original box\n",
    "            count = count + 1                                                   # incrementing the counter for the number of accepted moves\n",
    "        else                                                                    # rejecting the move and restore the old position\n",
    "            tempbox.xlist[randindex] = oldX                                     # restoring the x coordinate of the particle in the temporary box\n",
    "            tempbox.ylist[randindex] = oldY                                     # restoring the y coordinate of the particle in the temporary box\n",
    "        end\n",
    "\n",
    "    MCMDInit.P = MCMDInit.n * MCMDInit.T / (MCMDInit.L*MCMDInit.L) + (dot(MCMDInit.xlist,MCMDInit.axlist) + dot(MCMDInit.ylist ,MCMDInit.aylist))/(3*(MCMDInit.L*MCMDInit.L))      #using virial\n",
    "    MCMDInit.E = MCMDInit.T+ MCMDInit.V\n",
    "\n",
    "end\n"
   ]
  },
  {
   "cell_type": "code",
   "execution_count": 8,
   "metadata": {},
   "outputs": [],
   "source": [
    "MCMDInit = Init(100,30,1)\n",
    "tempbox = deepcopy(MCMDInit)                                                         # making a copy of the box to store the new position and potential energy\n",
    "Xs = zeros(MCMDInit.n, MCMDInit.TRange)\n",
    "Ys = zeros(MCMDInit.n, MCMDInit.TRange)\n",
    "Ks = zeros(MCMDInit.TRange)\n",
    "Es = zeros(MCMDInit.TRange)\n",
    "Vs = zeros(MCMDInit.TRange)\n",
    "Ps = zeros(MCMDInit.TRange)\n",
    "\n",
    " for i in 1:MCMDInit.TRange\n",
    "    montcarlo(MCMDInit)\n",
    "    Xs[:,i] = MCMDInit.xlist\n",
    "    Ys[:,i] = MCMDInit.ylist\n",
    "    Ks[i]  = MCMDInit.K\n",
    "    Es[i] = MCMDInit.E\n",
    "    Vs[i] = MCMDInit.V\n",
    "    Ps[i] = MCMDInit.P\n",
    " end\n"
   ]
  },
  {
   "attachments": {},
   "cell_type": "markdown",
   "metadata": {},
   "source": [
    "Animation"
   ]
  },
  {
   "cell_type": "code",
   "execution_count": 9,
   "metadata": {},
   "outputs": [
    {
     "data": {
      "text/plain": [
       "Animation(\"C:\\\\Users\\\\Nahal\\\\AppData\\\\Local\\\\Temp\\\\jl_JgV9Di\", [\"000001.png\", \"000002.png\", \"000003.png\", \"000004.png\", \"000005.png\", \"000006.png\", \"000007.png\", \"000008.png\", \"000009.png\", \"000010.png\"  …  \"099991.png\", \"099992.png\", \"099993.png\", \"099994.png\", \"099995.png\", \"099996.png\", \"099997.png\", \"099998.png\", \"099999.png\", \"100000.png\"])"
      ]
     },
     "execution_count": 9,
     "metadata": {},
     "output_type": "execute_result"
    }
   ],
   "source": [
    "\n",
    "MdAnime = @animate for L in 1:MCMDInit.TRange\n",
    "    scatter(Xs[:,L],Ys[:,L], xlim = [0,30], ylim = [0,30])\n",
    "end\n"
   ]
  },
  {
   "cell_type": "code",
   "execution_count": 16,
   "metadata": {},
   "outputs": [],
   "source": [
    "gif(MdAnime,\"McMdAnime\", fps = 30)\n",
    ";"
   ]
  },
  {
   "attachments": {},
   "cell_type": "markdown",
   "metadata": {},
   "source": [
    "N(t)"
   ]
  },
  {
   "cell_type": "code",
   "execution_count": 15,
   "metadata": {},
   "outputs": [],
   "source": [
    "count = zeros(MCMDInit.TRange)\n",
    "for L in 1:10\n",
    "for i in 1:MCMDInit.n\n",
    "    if Xs[i,L] < (MCMDInit.L/2)\n",
    "        count[L] +=1\n",
    "    end\n",
    "end\n",
    "end\n",
    "plot(count, label = false)\n",
    ";"
   ]
  },
  {
   "attachments": {},
   "cell_type": "markdown",
   "metadata": {},
   "source": [
    "Energy"
   ]
  },
  {
   "cell_type": "code",
   "execution_count": 13,
   "metadata": {},
   "outputs": [],
   "source": [
    "plot(Es, label = \"Es\", lable = \"E\")\n",
    "plot!(Ks, label = \"Ks\", lable = \"K\")\n",
    "plot!(Vs , label = \"Vs\", lable = \"U\")\n",
    "plot!(xaxis = \"t\", yaxis = \"E\")\n",
    ";"
   ]
  },
  {
   "attachments": {},
   "cell_type": "markdown",
   "metadata": {},
   "source": [
    "Pressure"
   ]
  },
  {
   "cell_type": "code",
   "execution_count": 14,
   "metadata": {},
   "outputs": [],
   "source": [
    "plot!(Ps, label = \"Ps\", lable = \"K\")\n",
    ";"
   ]
  },
  {
   "attachments": {},
   "cell_type": "markdown",
   "metadata": {},
   "source": [
    "Van der Waals"
   ]
  },
  {
   "cell_type": "code",
   "execution_count": null,
   "metadata": {},
   "outputs": [],
   "source": [
    "simrun = 500000\n",
    "Paverage =zeros(100)\n",
    "Taverage = zeros(100)\n",
    "Tlist = zeros(simrun)\n",
    "Plist = zeros(simrun)\n",
    "\n",
    "for i in 1:100\n",
    "    mddata =  Init(100,30,1+(i/50))\n",
    "    for t in 1:simrun\n",
    "        montcarlo(mddata)\n",
    "        Tlist[t] = mddata.T\n",
    "        Plist[t] = mddata.P\n",
    "    end\n",
    "    Taverage[i] = movingaverage(Tlist,Int(0.7*simrun ))[end]\n",
    "    Paverage[i] = movingaverage(Plist,Int(0.7*simrun ))[end]\n",
    "end\n"
   ]
  },
  {
   "cell_type": "code",
   "execution_count": null,
   "metadata": {},
   "outputs": [],
   "source": [
    "# plot(Taverage,Paverage, label = false)\n",
    "# plot!(xaxis = \"T\" , yaxis = \"P\")\n",
    "plot(x->0.02 + 0.11*x)"
   ]
  },
  {
   "cell_type": "code",
   "execution_count": null,
   "metadata": {},
   "outputs": [],
   "source": [
    "A= [ones(100) Taverage]\n",
    "para = A \\ Paverage"
   ]
  },
  {
   "attachments": {},
   "cell_type": "markdown",
   "metadata": {},
   "source": [
    "Phase Transition"
   ]
  },
  {
   "cell_type": "code",
   "execution_count": null,
   "metadata": {},
   "outputs": [],
   "source": [
    "mdscale = Init(100,30,5)\n",
    "Ts = zeros( simrun)\n",
    "Ps = zeros(simrun)\n",
    "\n",
    "for t in 1:simrun\n",
    "    montcarlo(mdscale)\n",
    "    if t%100 == 1\n",
    "        mdscale.vxlist = 0.4 * mdscale.vxlist\n",
    "        mdscale.vylist = 0.4 * mdscale.vylist\n",
    "\n",
    "    end\n",
    "    Ts[t] = mdscale.T\n",
    "    Ps[t] = mdscale.P\n",
    "end"
   ]
  },
  {
   "cell_type": "code",
   "execution_count": null,
   "metadata": {},
   "outputs": [],
   "source": [
    "Tsmooth = movingaverage(Ts,5000)\n",
    "Psmooth = movingaverage(Ps,5000)\n",
    "plot(Tsmooth,Psmooth, legend= false)\n",
    "plot!(xaxis = \"T\", yaxis = \"P\")"
   ]
  }
 ],
 "metadata": {
  "kernelspec": {
   "display_name": "Julia 1.8.5",
   "language": "julia",
   "name": "julia-1.8"
  },
  "language_info": {
   "file_extension": ".jl",
   "mimetype": "application/julia",
   "name": "julia",
   "version": "1.8.5"
  },
  "orig_nbformat": 4
 },
 "nbformat": 4,
 "nbformat_minor": 2
}
