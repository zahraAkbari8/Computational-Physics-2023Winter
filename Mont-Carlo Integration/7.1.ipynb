{
 "cells": [
  {
   "cell_type": "code",
   "execution_count": 2,
   "metadata": {},
   "outputs": [],
   "source": [
    "using LinearAlgebra\n",
    "using Plots\n",
    "using Random\n",
    "using Statistics\n",
    "using Distributions\n",
    "using StatsPlots\n",
    "using LaTeXStrings\n",
    "using StatsBase"
   ]
  },
  {
   "attachments": {},
   "cell_type": "markdown",
   "metadata": {},
   "source": [
    "Generating Data"
   ]
  },
  {
   "cell_type": "code",
   "execution_count": 48,
   "metadata": {},
   "outputs": [
    {
     "data": {
      "text/plain": [
       "SimpleIntegralCalculator (generic function with 1 method)"
      ]
     },
     "execution_count": 48,
     "metadata": {},
     "output_type": "execute_result"
    }
   ],
   "source": [
    "N=100\n",
    "function SimpleRandGenerator(n)                                 # Generating uniform rand list between 0 to 2\n",
    "    UniformRandlist = rand(n)\n",
    "    return(UniformRandlist.*2)\n",
    "end\n",
    "function WeightedRandGenerator(n)                               # Generating random numbers between 0  and 2 with weight e^(-x)\n",
    "    UniformRandlist = rand(n)\n",
    "    return(-log.(UniformRandlist.*(1-1/ℯ^2) .+ 1/ℯ^2))\n",
    "end\n",
    "function f(x)\n",
    "    y = exp(-x^2)\n",
    "    return(y)\n",
    "end\n",
    "function WeightedIntegralCalculator(n)\n",
    "    Xlist = WeightedRandGenerator(n)\n",
    "    WeightedRandListMean = mean(f.(Xlist)./(exp.(-Xlist)))       # Calculating Integral using the weighted random points\n",
    "    WeightedIntegralValue = WeightedRandListMean* (1-ℯ^(-2))\n",
    "    #sigma = sqrt(mean((f.(Xlist)./(ℯ.^(-Xlist.^2))^2)-mean(f.(Xlist)./(ℯ.^(-Xlist.^2))^2))) \n",
    "    sigma = var(f.(Xlist))\n",
    "    return(WeightedIntegralValue,sigma)\n",
    "end\n",
    "function SimpleIntegralCalculator(n)\n",
    "    Xlist = SimpleRandGenerator(n)\n",
    "    SimpleRandListMean = mean(f.(Xlist))           # Estimating the Integral value by simple random points and avergaing the function value pf these points which will be multiplied by b-a\n",
    "    sigma = var(f.(Xlist))\n",
    "    return(SimpleRandListMean*2,sigma)\n",
    "    \n",
    "end\n"
   ]
  },
  {
   "cell_type": "code",
   "execution_count": 87,
   "metadata": {},
   "outputs": [],
   "source": [
    "N=1000000\n",
    "WeightedIntegralValue = WeightedIntegralCalculator(N)\n",
    "SimpleIntegralValue = SimpleIntegralCalculator(N)\n",
    ";"
   ]
  },
  {
   "cell_type": "code",
   "execution_count": 88,
   "metadata": {},
   "outputs": [
    {
     "name": "stdout",
     "output_type": "stream",
     "text": [
      "(0.8821300237551466, 0.10921774668194244)"
     ]
    }
   ],
   "source": [
    "\n",
    "print(WeightedIntegralValue)"
   ]
  },
  {
   "cell_type": "code",
   "execution_count": 89,
   "metadata": {},
   "outputs": [
    {
     "name": "stdout",
     "output_type": "stream",
     "text": [
      "(0.8827231504973742, 0.11885268075455468)"
     ]
    }
   ],
   "source": [
    "print(SimpleIntegralValue)"
   ]
  },
  {
   "cell_type": "code",
   "execution_count": 70,
   "metadata": {},
   "outputs": [
    {
     "data": {
      "text/plain": [
       "\"c:\\\\8\\\\Simulation\\\\Series6\\\\images\\\\7.1.png\""
      ]
     },
     "execution_count": 70,
     "metadata": {},
     "output_type": "execute_result"
    }
   ],
   "source": [
    "plot(10:100:10000,k -> SimpleIntegralCalculator(k)[1] , label = L\"SimpleIntegralCalculator\" )\n",
    "plot!(10:100:10000,k -> WeightedIntegralCalculator(k)[1], label = L\"WeightedIntegralCalculator\")\n",
    "realvalue = 0.8820813907624216799674810359140540372240517708685564680103480660\n",
    "\n",
    "plot!([10,10000] ,[realvalue ,realvalue], label = L\"real integral value\")\n",
    "plot!(xlabel = L\"N\", ylabel = L\"integral\\ value\" ,ylim =[0.8,0.95] )\n",
    "\n",
    "\n",
    "savefig(\"images\\\\7.1.png\")"
   ]
  }
 ],
 "metadata": {
  "kernelspec": {
   "display_name": "Julia 1.8.5",
   "language": "julia",
   "name": "julia-1.8"
  },
  "language_info": {
   "file_extension": ".jl",
   "mimetype": "application/julia",
   "name": "julia",
   "version": "1.8.5"
  },
  "orig_nbformat": 4
 },
 "nbformat": 4,
 "nbformat_minor": 2
}
