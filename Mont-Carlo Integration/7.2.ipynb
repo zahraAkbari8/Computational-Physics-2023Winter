{
 "cells": [
  {
   "cell_type": "code",
   "execution_count": 1,
   "metadata": {},
   "outputs": [],
   "source": [
    "using LinearAlgebra\n",
    "using Plots\n",
    "using Random\n",
    "using Statistics\n",
    "using Distributions\n",
    "using StatsPlots\n",
    "using LaTeXStrings\n",
    "using StatsBase"
   ]
  },
  {
   "cell_type": "code",
   "execution_count": 100,
   "metadata": {},
   "outputs": [
    {
     "data": {
      "text/plain": [
       "integralCalculator (generic function with 1 method)"
      ]
     },
     "execution_count": 100,
     "metadata": {},
     "output_type": "execute_result"
    }
   ],
   "source": [
    "N = 100000\n",
    "R=1\n",
    "\n",
    "pointarray = zeros(3,N)\n",
    "\n",
    "function SphereRandGenerator(n)                                 # Generating uniform rand list between -1 to 1 and only keeping the ones in desired sphere\n",
    "    cubepointarray = rand(3,n).*2 .-[1,1,1]               # the sphere center is in [0,0,0]\n",
    "    spherepointarray = []\n",
    "    for i in 1:n \n",
    "        if norm(cubepointarray[:, i]) < 1\n",
    "            push!(spherepointarray , cubepointarray[:, i])\n",
    "        end\n",
    "    end\n",
    "    spherepointarray = hcat(spherepointarray...)\n",
    "    return(spherepointarray)\n",
    "end\n",
    "\n",
    "function ρ(x)\n",
    "    rho0 = 1\n",
    "    rho = rho0*x/(4*R) + 5/(4*rho0)\n",
    "    return rho\n",
    "end\n",
    "\n",
    "function integralCalculator(Rhofunc,list)\n",
    "    integ = Rhofunc.(list[1,:]) .*list[1,:]\n",
    "    \n",
    "    return mean(integ) *4/3 * pi * R^3\n",
    "end\n",
    "\n"
   ]
  },
  {
   "cell_type": "code",
   "execution_count": 106,
   "metadata": {},
   "outputs": [
    {
     "data": {
      "text/plain": [
       "0.194161227999317"
      ]
     },
     "execution_count": 106,
     "metadata": {},
     "output_type": "execute_result"
    }
   ],
   "source": [
    "RandR = SphereRandGenerator(N)\n",
    "ρ.(RandR[1,:])\n",
    "integralCalculator(ρ,RandR)"
   ]
  }
 ],
 "metadata": {
  "kernelspec": {
   "display_name": "Julia 1.8.5",
   "language": "julia",
   "name": "julia-1.8"
  },
  "language_info": {
   "file_extension": ".jl",
   "mimetype": "application/julia",
   "name": "julia",
   "version": "1.8.5"
  },
  "orig_nbformat": 4
 },
 "nbformat": 4,
 "nbformat_minor": 2
}
